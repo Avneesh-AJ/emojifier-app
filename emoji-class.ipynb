{
 "cells": [
  {
   "cell_type": "code",
   "execution_count": 1,
   "metadata": {},
   "outputs": [],
   "source": [
    "###!pip install emoji"
   ]
  },
  {
   "cell_type": "code",
   "execution_count": 2,
   "metadata": {},
   "outputs": [],
   "source": [
    "import numpy as np\n",
    "import pandas as pd"
   ]
  },
  {
   "cell_type": "code",
   "execution_count": 3,
   "metadata": {},
   "outputs": [],
   "source": [
    "train = pd.read_csv('dataset/train_emoji.csv',header=None)\n",
    "test = pd.read_csv('dataset/test_emoji.csv',header=None)"
   ]
  },
  {
   "cell_type": "code",
   "execution_count": 4,
   "metadata": {},
   "outputs": [
    {
     "data": {
      "text/html": [
       "<div>\n",
       "<style scoped>\n",
       "    .dataframe tbody tr th:only-of-type {\n",
       "        vertical-align: middle;\n",
       "    }\n",
       "\n",
       "    .dataframe tbody tr th {\n",
       "        vertical-align: top;\n",
       "    }\n",
       "\n",
       "    .dataframe thead th {\n",
       "        text-align: right;\n",
       "    }\n",
       "</style>\n",
       "<table border=\"1\" class=\"dataframe\">\n",
       "  <thead>\n",
       "    <tr style=\"text-align: right;\">\n",
       "      <th></th>\n",
       "      <th>0</th>\n",
       "      <th>1</th>\n",
       "      <th>2</th>\n",
       "      <th>3</th>\n",
       "    </tr>\n",
       "  </thead>\n",
       "  <tbody>\n",
       "    <tr>\n",
       "      <th>0</th>\n",
       "      <td>never talk to me again</td>\n",
       "      <td>3</td>\n",
       "      <td>NaN</td>\n",
       "      <td>NaN</td>\n",
       "    </tr>\n",
       "    <tr>\n",
       "      <th>1</th>\n",
       "      <td>I am proud of your achievements</td>\n",
       "      <td>2</td>\n",
       "      <td>NaN</td>\n",
       "      <td>NaN</td>\n",
       "    </tr>\n",
       "    <tr>\n",
       "      <th>2</th>\n",
       "      <td>It is the worst day in my life</td>\n",
       "      <td>3</td>\n",
       "      <td>NaN</td>\n",
       "      <td>NaN</td>\n",
       "    </tr>\n",
       "    <tr>\n",
       "      <th>3</th>\n",
       "      <td>Miss you so much</td>\n",
       "      <td>0</td>\n",
       "      <td>NaN</td>\n",
       "      <td>[0]</td>\n",
       "    </tr>\n",
       "    <tr>\n",
       "      <th>4</th>\n",
       "      <td>food is life</td>\n",
       "      <td>4</td>\n",
       "      <td>NaN</td>\n",
       "      <td>NaN</td>\n",
       "    </tr>\n",
       "  </tbody>\n",
       "</table>\n",
       "</div>"
      ],
      "text/plain": [
       "                                 0  1   2     3\n",
       "0           never talk to me again  3 NaN   NaN\n",
       "1  I am proud of your achievements  2 NaN   NaN\n",
       "2   It is the worst day in my life  3 NaN   NaN\n",
       "3                 Miss you so much  0 NaN   [0]\n",
       "4                     food is life  4 NaN   NaN"
      ]
     },
     "execution_count": 4,
     "metadata": {},
     "output_type": "execute_result"
    }
   ],
   "source": [
    "train.head()"
   ]
  },
  {
   "cell_type": "code",
   "execution_count": 5,
   "metadata": {},
   "outputs": [],
   "source": [
    "import emoji as emoji"
   ]
  },
  {
   "cell_type": "code",
   "execution_count": 6,
   "metadata": {},
   "outputs": [],
   "source": [
    "#emoji.EMOJI_ALIAS_UNICODE"
   ]
  },
  {
   "cell_type": "code",
   "execution_count": 7,
   "metadata": {},
   "outputs": [],
   "source": [
    "emoji_dictionary = {\"0\": \"\\u2764\\uFE0F\",    # :heart: prints a black instead of red heart depending on the font\n",
    "                    \"1\": \":baseball:\",\n",
    "                    \"2\": \":beaming_face_with_smiling_eyes:\",\n",
    "                    \"3\": \":downcast_face_with_sweat:\",\n",
    "                    \"4\": \":fork_and_knife:\",\n",
    "                   }"
   ]
  },
  {
   "cell_type": "code",
   "execution_count": 8,
   "metadata": {},
   "outputs": [
    {
     "data": {
      "text/plain": [
       "'🍴'"
      ]
     },
     "execution_count": 8,
     "metadata": {},
     "output_type": "execute_result"
    }
   ],
   "source": [
    "emoji.emojize(\":fork_and_knife:\")"
   ]
  },
  {
   "cell_type": "code",
   "execution_count": 9,
   "metadata": {},
   "outputs": [
    {
     "name": "stdout",
     "output_type": "stream",
     "text": [
      "❤️\n",
      "⚾\n",
      "😁\n",
      "😓\n",
      "🍴\n"
     ]
    }
   ],
   "source": [
    "for e in emoji_dictionary.values():\n",
    "    print(emoji.emojize(e))"
   ]
  },
  {
   "cell_type": "code",
   "execution_count": 10,
   "metadata": {},
   "outputs": [
    {
     "name": "stdout",
     "output_type": "stream",
     "text": [
      "never talk to me again 😓\n",
      "I am proud of your achievements 😁\n",
      "It is the worst day in my life 😓\n",
      "Miss you so much ❤️\n",
      "food is life 🍴\n",
      "I love you mum ❤️\n",
      "Stop saying bullshit 😓\n",
      "congratulations on your acceptance 😁\n",
      "The assignment is too long  😓\n",
      "I want to go play ⚾\n"
     ]
    }
   ],
   "source": [
    "data = train.values\n",
    "for i in range(10):\n",
    "    print(data[i][0],emoji.emojize(emoji_dictionary[str(data[i][1])]))"
   ]
  },
  {
   "cell_type": "code",
   "execution_count": null,
   "metadata": {},
   "outputs": [],
   "source": []
  },
  {
   "cell_type": "code",
   "execution_count": 11,
   "metadata": {},
   "outputs": [],
   "source": [
    "from tensorflow.keras.utils import to_categorical\n",
    "#using theano backend\n"
   ]
  },
  {
   "cell_type": "code",
   "execution_count": 12,
   "metadata": {},
   "outputs": [
    {
     "name": "stdout",
     "output_type": "stream",
     "text": [
      "(132,)\n",
      "(56,)\n",
      "(132, 5)\n",
      "(56, 5)\n"
     ]
    }
   ],
   "source": [
    "XT = train[0]\n",
    "Xt = test[0]\n",
    "\n",
    "YT = to_categorical(train[1])\n",
    "Yt = to_categorical(test[1])\n",
    "\n",
    "\n",
    "print(XT.shape)\n",
    "print(Xt.shape)\n",
    "print(YT.shape)\n",
    "print(Yt.shape)"
   ]
  },
  {
   "cell_type": "code",
   "execution_count": 13,
   "metadata": {},
   "outputs": [],
   "source": [
    "embeddings = {}\n",
    "with open('glove.6B.50d.txt',encoding='utf-8') as f:\n",
    "    for line in f:\n",
    "        values = line.split()\n",
    "        word = values[0]\n",
    "        coeffs = np.asarray(values[1:],dtype='float32')\n",
    "        \n",
    "        #print(word)\n",
    "        #print(coeffs)\n",
    "        embeddings[word] = coeffs"
   ]
  },
  {
   "cell_type": "code",
   "execution_count": 14,
   "metadata": {},
   "outputs": [],
   "source": [
    "def getOutputEmbeddings(X):\n",
    "    \n",
    "    embedding_matrix_output = np.zeros((X.shape[0],10,50))\n",
    "    for ix in range(X.shape[0]):\n",
    "        X[ix] = X[ix].split()\n",
    "        for jx in range(len(X[ix])):\n",
    "            embedding_matrix_output[ix][jx] = embeddings[X[ix][jx].lower()]\n",
    "            \n",
    "    return embedding_matrix_output"
   ]
  },
  {
   "cell_type": "code",
   "execution_count": 15,
   "metadata": {},
   "outputs": [
    {
     "data": {
      "text/plain": [
       "'I am proud of your achievements'"
      ]
     },
     "execution_count": 15,
     "metadata": {},
     "output_type": "execute_result"
    }
   ],
   "source": [
    "XT[1]"
   ]
  },
  {
   "cell_type": "code",
   "execution_count": 16,
   "metadata": {},
   "outputs": [
    {
     "name": "stderr",
     "output_type": "stream",
     "text": [
      "C:\\Users\\avnee\\AppData\\Local\\Temp/ipykernel_3216/2176504226.py:5: SettingWithCopyWarning: \n",
      "A value is trying to be set on a copy of a slice from a DataFrame\n",
      "\n",
      "See the caveats in the documentation: https://pandas.pydata.org/pandas-docs/stable/user_guide/indexing.html#returning-a-view-versus-a-copy\n",
      "  X[ix] = X[ix].split()\n"
     ]
    }
   ],
   "source": [
    "emb_XT = getOutputEmbeddings(XT)\n",
    "emb_Xt = getOutputEmbeddings(Xt)"
   ]
  },
  {
   "cell_type": "code",
   "execution_count": 17,
   "metadata": {},
   "outputs": [
    {
     "name": "stdout",
     "output_type": "stream",
     "text": [
      "(132, 10, 50)\n",
      "(56, 10, 50)\n"
     ]
    }
   ],
   "source": [
    "print(emb_XT.shape)\n",
    "print(emb_Xt.shape)\n"
   ]
  },
  {
   "cell_type": "code",
   "execution_count": 18,
   "metadata": {},
   "outputs": [],
   "source": [
    "from keras.layers import LSTM, Dropout, Dense, Activation\n",
    "from keras.models import Sequential"
   ]
  },
  {
   "cell_type": "code",
   "execution_count": 19,
   "metadata": {},
   "outputs": [
    {
     "name": "stdout",
     "output_type": "stream",
     "text": [
      "Model: \"sequential\"\n",
      "_________________________________________________________________\n",
      " Layer (type)                Output Shape              Param #   \n",
      "=================================================================\n",
      " lstm (LSTM)                 (None, 10, 64)            29440     \n",
      "                                                                 \n",
      " dropout (Dropout)           (None, 10, 64)            0         \n",
      "                                                                 \n",
      " lstm_1 (LSTM)               (None, 64)                33024     \n",
      "                                                                 \n",
      " dropout_1 (Dropout)         (None, 64)                0         \n",
      "                                                                 \n",
      " dense (Dense)               (None, 5)                 325       \n",
      "                                                                 \n",
      " activation (Activation)     (None, 5)                 0         \n",
      "                                                                 \n",
      "=================================================================\n",
      "Total params: 62,789\n",
      "Trainable params: 62,789\n",
      "Non-trainable params: 0\n",
      "_________________________________________________________________\n"
     ]
    }
   ],
   "source": [
    "model = Sequential()\n",
    "model.add(LSTM(64,input_shape=(10,50),return_sequences=True))\n",
    "model.add(Dropout(0.4))\n",
    "model.add(LSTM(64,input_shape=(10,50)))\n",
    "model.add(Dropout(0.3))\n",
    "model.add(Dense(5))\n",
    "model.add(Activation('softmax'))\n",
    "model.summary()"
   ]
  },
  {
   "cell_type": "code",
   "execution_count": 20,
   "metadata": {},
   "outputs": [
    {
     "name": "stdout",
     "output_type": "stream",
     "text": [
      "Epoch 1/40\n",
      "4/4 [==============================] - 3s 235ms/step - loss: 1.5926 - acc: 0.2373 - val_loss: 1.6226 - val_acc: 0.0714\n",
      "Epoch 2/40\n",
      "4/4 [==============================] - 0s 18ms/step - loss: 1.5344 - acc: 0.3136 - val_loss: 1.6245 - val_acc: 0.1429\n",
      "Epoch 3/40\n",
      "4/4 [==============================] - 0s 18ms/step - loss: 1.4898 - acc: 0.3983 - val_loss: 1.6324 - val_acc: 0.1429\n",
      "Epoch 4/40\n",
      "4/4 [==============================] - 0s 17ms/step - loss: 1.4583 - acc: 0.3898 - val_loss: 1.6142 - val_acc: 0.2143\n",
      "Epoch 5/40\n",
      "4/4 [==============================] - 0s 17ms/step - loss: 1.4072 - acc: 0.4237 - val_loss: 1.5641 - val_acc: 0.1429\n",
      "Epoch 6/40\n",
      "4/4 [==============================] - 0s 11ms/step - loss: 1.3464 - acc: 0.4831 - val_loss: 1.4786 - val_acc: 0.2143\n",
      "Epoch 7/40\n",
      "4/4 [==============================] - 0s 11ms/step - loss: 1.2483 - acc: 0.5424 - val_loss: 1.4150 - val_acc: 0.4286\n",
      "Epoch 8/40\n",
      "4/4 [==============================] - 0s 11ms/step - loss: 1.1464 - acc: 0.6186 - val_loss: 1.3347 - val_acc: 0.5000\n",
      "Epoch 9/40\n",
      "4/4 [==============================] - 0s 16ms/step - loss: 1.0692 - acc: 0.6271 - val_loss: 1.2812 - val_acc: 0.5000\n",
      "Epoch 10/40\n",
      "4/4 [==============================] - 0s 17ms/step - loss: 0.9372 - acc: 0.6441 - val_loss: 1.3945 - val_acc: 0.5000\n",
      "Epoch 11/40\n",
      "4/4 [==============================] - 0s 17ms/step - loss: 0.9132 - acc: 0.6441 - val_loss: 1.2663 - val_acc: 0.5714\n",
      "Epoch 12/40\n",
      "4/4 [==============================] - 0s 18ms/step - loss: 0.7932 - acc: 0.7034 - val_loss: 1.2451 - val_acc: 0.5714\n",
      "Epoch 13/40\n",
      "4/4 [==============================] - 0s 17ms/step - loss: 0.7316 - acc: 0.7966 - val_loss: 1.1099 - val_acc: 0.5714\n",
      "Epoch 14/40\n",
      "4/4 [==============================] - 0s 17ms/step - loss: 0.7239 - acc: 0.7203 - val_loss: 0.9090 - val_acc: 0.7143\n",
      "Epoch 15/40\n",
      "4/4 [==============================] - 0s 16ms/step - loss: 0.5819 - acc: 0.8559 - val_loss: 0.8863 - val_acc: 0.6429\n",
      "Epoch 16/40\n",
      "4/4 [==============================] - 0s 15ms/step - loss: 0.4874 - acc: 0.8559 - val_loss: 1.4034 - val_acc: 0.4286\n",
      "Epoch 17/40\n",
      "4/4 [==============================] - 0s 16ms/step - loss: 0.4299 - acc: 0.8390 - val_loss: 0.9391 - val_acc: 0.7857\n",
      "Epoch 18/40\n",
      "4/4 [==============================] - 0s 15ms/step - loss: 0.4703 - acc: 0.8559 - val_loss: 1.2558 - val_acc: 0.5000\n",
      "Epoch 19/40\n",
      "4/4 [==============================] - 0s 16ms/step - loss: 0.4374 - acc: 0.8644 - val_loss: 1.2338 - val_acc: 0.5714\n",
      "Epoch 20/40\n",
      "4/4 [==============================] - 0s 16ms/step - loss: 0.3077 - acc: 0.9322 - val_loss: 0.7648 - val_acc: 0.7857\n",
      "Epoch 21/40\n",
      "4/4 [==============================] - 0s 17ms/step - loss: 0.3428 - acc: 0.8898 - val_loss: 1.5662 - val_acc: 0.4286\n",
      "Epoch 22/40\n",
      "4/4 [==============================] - 0s 16ms/step - loss: 0.3310 - acc: 0.9068 - val_loss: 1.3047 - val_acc: 0.6429\n",
      "Epoch 23/40\n",
      "4/4 [==============================] - 0s 17ms/step - loss: 0.3088 - acc: 0.9068 - val_loss: 0.8459 - val_acc: 0.7857\n",
      "Epoch 24/40\n",
      "4/4 [==============================] - 0s 16ms/step - loss: 0.2111 - acc: 0.9576 - val_loss: 1.2303 - val_acc: 0.4286\n",
      "Epoch 25/40\n",
      "4/4 [==============================] - 0s 16ms/step - loss: 0.2345 - acc: 0.9153 - val_loss: 1.0887 - val_acc: 0.6429\n",
      "Epoch 26/40\n",
      "4/4 [==============================] - 0s 15ms/step - loss: 0.2688 - acc: 0.9068 - val_loss: 1.1653 - val_acc: 0.6429\n",
      "Epoch 27/40\n",
      "4/4 [==============================] - 0s 12ms/step - loss: 0.2444 - acc: 0.9153 - val_loss: 1.4047 - val_acc: 0.5714\n",
      "Epoch 28/40\n",
      "4/4 [==============================] - 0s 14ms/step - loss: 0.2136 - acc: 0.9492 - val_loss: 0.9111 - val_acc: 0.7857\n",
      "Epoch 29/40\n",
      "4/4 [==============================] - 0s 11ms/step - loss: 0.1908 - acc: 0.9407 - val_loss: 0.7290 - val_acc: 0.7857\n",
      "Epoch 30/40\n",
      "4/4 [==============================] - 0s 15ms/step - loss: 0.1506 - acc: 0.9661 - val_loss: 0.7795 - val_acc: 0.7143\n",
      "Epoch 31/40\n",
      "4/4 [==============================] - 0s 12ms/step - loss: 0.1592 - acc: 0.9661 - val_loss: 1.2628 - val_acc: 0.5714\n",
      "Epoch 32/40\n",
      "4/4 [==============================] - 0s 19ms/step - loss: 0.1270 - acc: 0.9576 - val_loss: 1.0786 - val_acc: 0.7143\n",
      "Epoch 33/40\n",
      "4/4 [==============================] - 0s 16ms/step - loss: 0.1523 - acc: 0.9322 - val_loss: 0.8292 - val_acc: 0.7857\n",
      "Epoch 34/40\n",
      "4/4 [==============================] - 0s 17ms/step - loss: 0.1556 - acc: 0.9492 - val_loss: 0.7952 - val_acc: 0.7143\n",
      "Epoch 35/40\n",
      "4/4 [==============================] - 0s 17ms/step - loss: 0.0989 - acc: 0.9746 - val_loss: 0.6544 - val_acc: 0.8571\n",
      "Epoch 36/40\n",
      "4/4 [==============================] - 0s 16ms/step - loss: 0.0901 - acc: 0.9831 - val_loss: 0.9052 - val_acc: 0.7143\n",
      "Epoch 37/40\n",
      "4/4 [==============================] - 0s 16ms/step - loss: 0.0867 - acc: 0.9746 - val_loss: 0.8544 - val_acc: 0.7857\n",
      "Epoch 38/40\n",
      "4/4 [==============================] - 0s 15ms/step - loss: 0.0778 - acc: 0.9746 - val_loss: 0.6907 - val_acc: 0.7857\n",
      "Epoch 39/40\n",
      "4/4 [==============================] - 0s 13ms/step - loss: 0.0455 - acc: 0.9915 - val_loss: 0.9918 - val_acc: 0.6429\n",
      "Epoch 40/40\n",
      "4/4 [==============================] - 0s 16ms/step - loss: 0.0631 - acc: 0.9915 - val_loss: 0.8127 - val_acc: 0.6429\n"
     ]
    },
    {
     "data": {
      "text/plain": [
       "<keras.callbacks.History at 0x2435e9e21c0>"
      ]
     },
     "execution_count": 20,
     "metadata": {},
     "output_type": "execute_result"
    }
   ],
   "source": [
    "model.compile(optimizer='adam',loss='categorical_crossentropy',metrics=['acc'])\n",
    "model.fit(emb_XT,YT,batch_size=32,epochs=40,shuffle=True,validation_split=0.1)"
   ]
  },
  {
   "cell_type": "code",
   "execution_count": 21,
   "metadata": {},
   "outputs": [
    {
     "name": "stdout",
     "output_type": "stream",
     "text": [
      "2/2 [==============================] - 0s 5ms/step - loss: 1.4743 - acc: 0.6786\n"
     ]
    },
    {
     "data": {
      "text/plain": [
       "[1.4743150472640991, 0.6785714030265808]"
      ]
     },
     "execution_count": 21,
     "metadata": {},
     "output_type": "execute_result"
    }
   ],
   "source": [
    "model.evaluate(emb_Xt,Yt)"
   ]
  },
  {
   "cell_type": "code",
   "execution_count": 23,
   "metadata": {},
   "outputs": [],
   "source": [
    "pred = np.argmax(model.predict((emb_Xt)), axis=-1)"
   ]
  },
  {
   "cell_type": "code",
   "execution_count": 24,
   "metadata": {},
   "outputs": [
    {
     "name": "stdout",
     "output_type": "stream",
     "text": [
      "I want to eat\n",
      "🍴\n",
      "🍴\n",
      "he did not answer\n",
      "😓\n",
      "😓\n",
      "he got a raise\n",
      "😁\n",
      "😓\n",
      "she got me a present\n",
      "❤️\n",
      "❤️\n",
      "ha ha ha it was so funny\n",
      "😁\n",
      "😁\n",
      "he is a good friend\n",
      "❤️\n",
      "😁\n",
      "I am upset\n",
      "❤️\n",
      "😓\n",
      "We had such a lovely dinner tonight\n",
      "❤️\n",
      "😁\n",
      "where is the food\n",
      "🍴\n",
      "🍴\n",
      "Stop making this joke ha ha ha\n",
      "😁\n",
      "😁\n",
      "where is the ball\n",
      "⚾\n",
      "⚾\n",
      "work is hard\n",
      "😓\n",
      "😓\n",
      "This girl is messing with me\n",
      "😓\n",
      "❤️\n",
      "are you serious ha ha\n",
      "😁\n",
      "😓\n",
      "Let us go play baseball\n",
      "⚾\n",
      "⚾\n",
      "This stupid grader is not working\n",
      "😓\n",
      "😓\n",
      "work is horrible\n",
      "😓\n",
      "😓\n",
      "Congratulation for having a baby\n",
      "😁\n",
      "😁\n",
      "stop messing around\n",
      "😓\n",
      "😓\n",
      "any suggestions for dinner\n",
      "🍴\n",
      "😁\n",
      "I love taking breaks\n",
      "❤️\n",
      "❤️\n",
      "you brighten my day\n",
      "😁\n",
      "❤️\n",
      "I boiled rice\n",
      "🍴\n",
      "🍴\n",
      "she is a bully\n",
      "😓\n",
      "😁\n",
      "Why are you feeling bad\n",
      "😓\n",
      "😓\n",
      "I am upset\n",
      "😓\n",
      "😓\n",
      "I worked during my birthday\n",
      "😓\n",
      "😁\n",
      "My grandmother is the love of my life\n",
      "❤️\n",
      "❤️\n",
      "enjoy your break\n",
      "😁\n",
      "⚾\n",
      "valentine day is near\n",
      "❤️\n",
      "😁\n"
     ]
    }
   ],
   "source": [
    "for i in range(30):\n",
    "    print(' '.join(Xt[i]))\n",
    "    print(emoji.emojize(emoji_dictionary[str(np.argmax(Yt[i]))]))\n",
    "    print(emoji.emojize(emoji_dictionary[str(pred[i])]))"
   ]
  },
  {
   "cell_type": "code",
   "execution_count": 25,
   "metadata": {},
   "outputs": [],
   "source": [
    "with open(\"model.json\", \"w\") as file:\n",
    "    file.write(model.to_json())\n",
    "model.save_weights(\"model.h5\")"
   ]
  },
  {
   "cell_type": "code",
   "execution_count": 86,
   "metadata": {},
   "outputs": [],
   "source": [
    "###Test the model from here"
   ]
  },
  {
   "cell_type": "code",
   "execution_count": 128,
   "metadata": {},
   "outputs": [],
   "source": [
    "from keras.models import model_from_json"
   ]
  },
  {
   "cell_type": "code",
   "execution_count": 129,
   "metadata": {},
   "outputs": [],
   "source": [
    "with open(\"model.json\", \"r\") as file:\n",
    "    model = model_from_json(file.read())\n",
    "model.load_weights(\"model.h5\")"
   ]
  },
  {
   "cell_type": "code",
   "execution_count": 130,
   "metadata": {},
   "outputs": [],
   "source": [
    "test_str = \"i am in hurt\"\n",
    "X = pd.Series([test_str])"
   ]
  },
  {
   "cell_type": "code",
   "execution_count": 131,
   "metadata": {},
   "outputs": [],
   "source": [
    "emb_X = getOutputEmbeddings(X)"
   ]
  },
  {
   "cell_type": "code",
   "execution_count": 132,
   "metadata": {},
   "outputs": [
    {
     "name": "stdout",
     "output_type": "stream",
     "text": [
      "WARNING:tensorflow:5 out of the last 12 calls to <function Model.make_predict_function.<locals>.predict_function at 0x000002436BF4E5E0> triggered tf.function retracing. Tracing is expensive and the excessive number of tracings could be due to (1) creating @tf.function repeatedly in a loop, (2) passing tensors with different shapes, (3) passing Python objects instead of tensors. For (1), please define your @tf.function outside of the loop. For (2), @tf.function has experimental_relax_shapes=True option that relaxes argument shapes that can avoid unnecessary retracing. For (3), please refer to https://www.tensorflow.org/guide/function#controlling_retracing and https://www.tensorflow.org/api_docs/python/tf/function for  more details.\n"
     ]
    }
   ],
   "source": [
    "p = np.argmax(model.predict((emb_X)), axis=-1)\n",
    "#print(p)\n",
    "#p=np.argmax(model.predict(emb_Xt)> 0.5).astype(\"int32\")\n"
   ]
  },
  {
   "cell_type": "code",
   "execution_count": 134,
   "metadata": {},
   "outputs": [
    {
     "name": "stdout",
     "output_type": "stream",
     "text": [
      "i am in hurt\n",
      "😓\n"
     ]
    }
   ],
   "source": [
    "print(' '.join(X[0]))\n",
    "print(emoji.emojize(emoji_dictionary[str(p[0])]))"
   ]
  },
  {
   "cell_type": "code",
   "execution_count": null,
   "metadata": {},
   "outputs": [],
   "source": []
  },
  {
   "cell_type": "code",
   "execution_count": null,
   "metadata": {},
   "outputs": [],
   "source": []
  }
 ],
 "metadata": {
  "kernelspec": {
   "display_name": "Python 3 (ipykernel)",
   "language": "python",
   "name": "python3"
  },
  "language_info": {
   "codemirror_mode": {
    "name": "ipython",
    "version": 3
   },
   "file_extension": ".py",
   "mimetype": "text/x-python",
   "name": "python",
   "nbconvert_exporter": "python",
   "pygments_lexer": "ipython3",
   "version": "3.9.6"
  }
 },
 "nbformat": 4,
 "nbformat_minor": 2
}
